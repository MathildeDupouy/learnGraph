{
 "cells": [
  {
   "cell_type": "code",
   "execution_count": 41,
   "metadata": {},
   "outputs": [
    {
     "name": "stdout",
     "output_type": "stream",
     "text": [
      "The autoreload extension is already loaded. To reload it, use:\n",
      "  %reload_ext autoreload\n"
     ]
    }
   ],
   "source": [
    "from load_data import *\n",
    "\n",
    "%load_ext autoreload\n",
    "%autoreload 2"
   ]
  },
  {
   "cell_type": "code",
   "execution_count": 42,
   "metadata": {},
   "outputs": [
    {
     "name": "stdout",
     "output_type": "stream",
     "text": [
      "{2016, 2017, 2018, 2019, 2020, 2021, 2022, 2005, 2006, 2007, 2009, 2010, 2011, 2012, 2013, 2014, 2015}\n",
      "num var 3\n",
      "num dpt 94\n",
      "num years 17\n"
     ]
    }
   ],
   "source": [
    "# Load data and desired columns\n",
    "fuel_data = Fuel_data('../__data/Donnees-annuelles-de-consommation-de-produits-petroliers-par-departement-France-metropol.2022-09.csv')\n",
    "fuel_data.truncate([SUPER_PLOMBE, SUPER_SANS_PLOMB, GAZOLE])\n",
    "print(\"num var\", fuel_data.num_var)\n",
    "print(\"num dpt\", fuel_data.num_dpt)\n",
    "print(\"num years\", fuel_data.num_years)"
   ]
  },
  {
   "cell_type": "code",
   "execution_count": 43,
   "metadata": {},
   "outputs": [
    {
     "name": "stdout",
     "output_type": "stream",
     "text": [
      "samples <class 'numpy.ndarray'>\n",
      "(94, 3)\n"
     ]
    }
   ],
   "source": [
    "samples_2005 = fuel_data.samples_one_year(2005)\n",
    "print('samples', type(samples_2005))\n",
    "print(samples_2005.shape)"
   ]
  },
  {
   "cell_type": "code",
   "execution_count": 46,
   "metadata": {},
   "outputs": [
    {
     "name": "stdout",
     "output_type": "stream",
     "text": [
      "samples <class 'numpy.ndarray'>\n",
      "(94, 11)\n",
      "[[2263.66  923.52  318.94 ...    0.      0.      0.  ]\n",
      " [2508.6   383.32    0.   ...    0.      0.      0.  ]\n",
      " [3366.26 1182.52   68.08 ...    0.      0.      0.  ]\n",
      " ...\n",
      " [1676.84   26.64    0.   ...    0.      0.      0.  ]\n",
      " [2562.62  375.92   51.8  ...    0.      0.      0.  ]\n",
      " [2166.72  245.68    6.66 ...    0.      0.      0.  ]]\n"
     ]
    }
   ],
   "source": [
    "samples_super_plombe = fuel_data.samples_by_year(SUPER_PLOMBE)\n",
    "print('samples', type(samples_super_plombe))\n",
    "print(samples_super_plombe.shape)\n",
    "print(samples_super_plombe)"
   ]
  }
 ],
 "metadata": {
  "kernelspec": {
   "display_name": "gda-project",
   "language": "python",
   "name": "python3"
  },
  "language_info": {
   "codemirror_mode": {
    "name": "ipython",
    "version": 3
   },
   "file_extension": ".py",
   "mimetype": "text/x-python",
   "name": "python",
   "nbconvert_exporter": "python",
   "pygments_lexer": "ipython3",
   "version": "3.8.18"
  }
 },
 "nbformat": 4,
 "nbformat_minor": 2
}
