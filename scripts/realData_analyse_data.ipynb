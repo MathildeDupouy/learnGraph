{
 "cells": [
  {
   "cell_type": "code",
   "execution_count": 25,
   "metadata": {},
   "outputs": [
    {
     "name": "stdout",
     "output_type": "stream",
     "text": [
      "The autoreload extension is already loaded. To reload it, use:\n",
      "  %reload_ext autoreload\n"
     ]
    }
   ],
   "source": [
    "from load_data import *\n",
    "\n",
    "%load_ext autoreload\n",
    "%autoreload 2"
   ]
  },
  {
   "cell_type": "code",
   "execution_count": 28,
   "metadata": {},
   "outputs": [
    {
     "name": "stdout",
     "output_type": "stream",
     "text": [
      "  code                      nom  \\\n",
      "0   01                      Ain   \n",
      "1   02                    Aisne   \n",
      "2   03                   Allier   \n",
      "3   04  Alpes-de-Haute-Provence   \n",
      "4   05             Hautes-Alpes   \n",
      "\n",
      "                                            geometry  \n",
      "0  POLYGON ((4.78021 46.17668, 4.78024 46.18905, ...  \n",
      "1  POLYGON ((3.17296 50.01131, 3.17382 50.01186, ...  \n",
      "2  POLYGON ((3.03207 46.79491, 3.03424 46.79080, ...  \n",
      "3  POLYGON ((5.67604 44.19143, 5.67817 44.19051, ...  \n",
      "4  POLYGON ((6.26057 45.12685, 6.26417 45.12641, ...  \n"
     ]
    }
   ],
   "source": [
    "# Load data and desired columns\n",
    "fuel_data = Fuel_data('../__data/Donnees-annuelles-de-consommation-de-produits-petroliers-par-departement-France-metropol.2022-09.csv')\n",
    "fuel_data.truncate([DEPARTEMENT_CODE, ANNEE, SUPER_PLOMBE, SUPER_SANS_PLOMB, GAZOLE])"
   ]
  }
 ],
 "metadata": {
  "kernelspec": {
   "display_name": "gda-project",
   "language": "python",
   "name": "python3"
  },
  "language_info": {
   "codemirror_mode": {
    "name": "ipython",
    "version": 3
   },
   "file_extension": ".py",
   "mimetype": "text/x-python",
   "name": "python",
   "nbconvert_exporter": "python",
   "pygments_lexer": "ipython3",
   "version": "3.8.18"
  }
 },
 "nbformat": 4,
 "nbformat_minor": 2
}
